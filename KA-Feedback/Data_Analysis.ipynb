{
 "cells": [
  {
   "cell_type": "code",
   "execution_count": 1,
   "metadata": {},
   "outputs": [],
   "source": [
    "import warnings; warnings.filterwarnings('ignore')\n",
    "import glob\n",
    "import pandas as pd\n",
    "import matplotlib.pyplot as plt\n",
    "import seaborn as sns\n",
    "from utilities import df_stats, df_changes"
   ]
  },
  {
   "cell_type": "markdown",
   "metadata": {},
   "source": [
    "## Data Extraction"
   ]
  },
  {
   "cell_type": "markdown",
   "metadata": {},
   "source": [
    "The data are split over several csv files. Here we load the date into a single dataframe."
   ]
  },
  {
   "cell_type": "markdown",
   "metadata": {},
   "source": [
    "Print the structure of the csv files in the folder data/"
   ]
  },
  {
   "cell_type": "code",
   "execution_count": 2,
   "metadata": {},
   "outputs": [
    {
     "name": "stdout",
     "output_type": "stream",
     "text": [
      "Vorgangsnummer Kategorie Ort Zustand Erstellungsdatum Letztes Bearbeitungsdatum Eingangskanal \n",
      "Vorgangsnummer Kategorie Ort Zustand Erstellungsdatum Letztes Bearbeitungsdatum Eingangskanal \n",
      "Vorgangsnummer Kategorie Ort Zustand Erstellungsdatum Letztes Bearbeitungsdatum Eingangskanal \n",
      "Vorgangsnummer Kategorie Ort Zustand Erstellungsdatum Letztes Bearbeitungsdatum Eingangskanal \n",
      "Vorgangsnummer Kategorie Ort Zustand Erstellungsdatum Letztes Bearbeitungsdatum Eingangskanal \n",
      "Vorgangsnummer Kategorie Ort Zustand Erstellungsdatum Letztes Bearbeitungsdatum Eingangskanal \n",
      "Vorgangsnummer Kategorie Ort Zustand Erstellungsdatum Letztes Bearbeitungsdatum Eingangskanal \n",
      "Vorgangsnnummer Kategorie Ort Zustand Erstellungsdatum Letztes Bearbeitungsdatum Eingangskanal \n"
     ]
    }
   ],
   "source": [
    "files = [i for i in glob.glob('data/ka-feedback-*.csv')]\n",
    "csv_columns = [pd.read_csv(f).columns for f in files]\n",
    "for row in csv_columns:\n",
    "    for item in row:\n",
    "        print(item, end=' ')\n",
    "    print('')"
   ]
  },
  {
   "cell_type": "markdown",
   "metadata": {},
   "source": [
    "Suggestions:  \n",
    "1. Each file has the same columns => Concatenate dataframes  \n",
    "2. Two date columns => Parse dates  \n",
    "3. Note typo in the first column of last file => Translate column name  "
   ]
  },
  {
   "cell_type": "markdown",
   "metadata": {},
   "source": [
    "Concerning date parsing, two different time zones are used in the data:  \n",
    "- CET = UTC + 1  (winter time)  \n",
    "- CEST = UTC + 2  (summer time)   \n",
    "\n",
    "but neither of these time zones are in place at the same time of the year.\n",
    "\n",
    "Example:"
   ]
  },
  {
   "cell_type": "code",
   "execution_count": 3,
   "metadata": {},
   "outputs": [
    {
     "name": "stdout",
     "output_type": "stream",
     "text": [
      "2013-12-31 18:46:00+01:00  -> winter time\n",
      "2013-07-28 17:59:00+02:00  -> summer time\n"
     ]
    }
   ],
   "source": [
    "one = pd.read_csv(files[1], parse_dates=['Erstellungsdatum'])\n",
    "print(one['Erstellungsdatum'][0], \" -> winter time\")\n",
    "print(one['Erstellungsdatum'][1300], \" -> summer time\")"
   ]
  },
  {
   "cell_type": "markdown",
   "metadata": {},
   "source": [
    "In order to compare winter and summer results, will be best to strip the timezone information.\n",
    "\n",
    "Example:"
   ]
  },
  {
   "cell_type": "code",
   "execution_count": 4,
   "metadata": {},
   "outputs": [
    {
     "name": "stdout",
     "output_type": "stream",
     "text": [
      "2013-12-31 18:46:00  -> local time\n",
      "2013-07-28 17:59:00  -> local time\n"
     ]
    }
   ],
   "source": [
    "one = pd.read_csv(files[1], parse_dates=['Erstellungsdatum'],\n",
    "                  date_parser=lambda col: pd.to_datetime(col).tz_localize(None))\n",
    "print(one['Erstellungsdatum'][0], \" -> local time\")\n",
    "print(one['Erstellungsdatum'][1300], \" -> local time\")"
   ]
  },
  {
   "cell_type": "markdown",
   "metadata": {},
   "source": [
    "Following all the suggestions above, here we load all data into a dataframe."
   ]
  },
  {
   "cell_type": "code",
   "execution_count": 5,
   "metadata": {},
   "outputs": [
    {
     "name": "stdout",
     "output_type": "stream",
     "text": [
      "Now tracking changes to dataframe (label='ka')\n",
      "Added 58449 rows\n",
      "Added 7 columns:\n",
      "- Erstellungsdatum (datetime64[ns])\n",
      "- Vorgangsnummer (string)\n",
      "- Kategorie (string)\n",
      "- Zustand (string)\n",
      "- Ort (string)\n",
      "- Letztes Bearbeitungsdatum (datetime64[ns])\n",
      "- Eingangskanal (string)\n"
     ]
    }
   ],
   "source": [
    "# Load data from csv files into dataframe\n",
    "def read_csv(file):\n",
    "    # Read csv and parse dates \n",
    "    df = pd.read_csv(file, \n",
    "                     parse_dates=['Erstellungsdatum','Letztes Bearbeitungsdatum'],\n",
    "                     date_parser=lambda col: pd.to_datetime(col).tz_localize(None)\n",
    "                    )\n",
    "    # Fix typo in column name\n",
    "    df = df.rename(columns={'Vorgangsnnummer':'Vorgangsnummer'})\n",
    "    return df\n",
    "\n",
    "# Concat dataframes\n",
    "df = pd.concat(map(read_csv, files), ignore_index=True)\n",
    "\n",
    "# Optimize datatypes\n",
    "df = df.convert_dtypes()\n",
    "\n",
    "# Sort by Erstellungsdatum, as future entries will arrive in order of this quantity\n",
    "df = df.sort_values('Erstellungsdatum', ignore_index=True)\n",
    "\n",
    "# Print changes\n",
    "df_changes(df,'ka',init=True)"
   ]
  },
  {
   "cell_type": "markdown",
   "metadata": {},
   "source": [
    "## Data Cleaning"
   ]
  },
  {
   "cell_type": "markdown",
   "metadata": {},
   "source": [
    "Here we perform basic data cleaning."
   ]
  },
  {
   "cell_type": "markdown",
   "metadata": {},
   "source": [
    "First show a few rows:"
   ]
  },
  {
   "cell_type": "code",
   "execution_count": 6,
   "metadata": {},
   "outputs": [
    {
     "data": {
      "text/html": [
       "<div>\n",
       "<style scoped>\n",
       "    .dataframe tbody tr th:only-of-type {\n",
       "        vertical-align: middle;\n",
       "    }\n",
       "\n",
       "    .dataframe tbody tr th {\n",
       "        vertical-align: top;\n",
       "    }\n",
       "\n",
       "    .dataframe thead th {\n",
       "        text-align: right;\n",
       "    }\n",
       "</style>\n",
       "<table border=\"1\" class=\"dataframe\">\n",
       "  <thead>\n",
       "    <tr style=\"text-align: right;\">\n",
       "      <th></th>\n",
       "      <th>Vorgangsnummer</th>\n",
       "      <th>Kategorie</th>\n",
       "      <th>Ort</th>\n",
       "      <th>Zustand</th>\n",
       "      <th>Erstellungsdatum</th>\n",
       "      <th>Letztes Bearbeitungsdatum</th>\n",
       "      <th>Eingangskanal</th>\n",
       "    </tr>\n",
       "  </thead>\n",
       "  <tbody>\n",
       "    <tr>\n",
       "      <th>0</th>\n",
       "      <td>3m6hno</td>\n",
       "      <td>Verkehrsverstöße</td>\n",
       "      <td>Basler-Tor-Straße 29-30, 76227 Karlsruhe</td>\n",
       "      <td>Behoben</td>\n",
       "      <td>2012-02-24 22:16:00</td>\n",
       "      <td>2015-03-20 09:59:00</td>\n",
       "      <td>MOBILE</td>\n",
       "    </tr>\n",
       "    <tr>\n",
       "      <th>1</th>\n",
       "      <td>fsaeor</td>\n",
       "      <td>Verkehrsverstöße</td>\n",
       "      <td>Gärtnerstraße 17, 76227 Karlsruhe</td>\n",
       "      <td>Behoben</td>\n",
       "      <td>2012-03-04 17:42:00</td>\n",
       "      <td>2015-03-20 10:00:00</td>\n",
       "      <td>MOBILE</td>\n",
       "    </tr>\n",
       "    <tr>\n",
       "      <th>2</th>\n",
       "      <td>blm3gf</td>\n",
       "      <td>Verkehrsverstöße</td>\n",
       "      <td>Georg-Büchner-Straße 4, 76149 Karlsruhe</td>\n",
       "      <td>Behoben</td>\n",
       "      <td>2012-03-07 20:31:00</td>\n",
       "      <td>2015-03-20 10:00:00</td>\n",
       "      <td>MOBILE</td>\n",
       "    </tr>\n",
       "    <tr>\n",
       "      <th>3</th>\n",
       "      <td>2cfufu</td>\n",
       "      <td>Straßenbeleuchtung</td>\n",
       "      <td>Stadtwerke, 76185 Karlsruhe</td>\n",
       "      <td>Abgeschlossen</td>\n",
       "      <td>2012-03-09 10:20:00</td>\n",
       "      <td>2017-01-11 13:28:00</td>\n",
       "      <td>MOBILE</td>\n",
       "    </tr>\n",
       "    <tr>\n",
       "      <th>4</th>\n",
       "      <td>riwctt</td>\n",
       "      <td>Verkehrsverstöße</td>\n",
       "      <td>Henriette-Obermüller-Straße 10, 76137 Karlsruhe</td>\n",
       "      <td>Behoben</td>\n",
       "      <td>2012-03-11 17:22:00</td>\n",
       "      <td>2012-03-11 17:22:00</td>\n",
       "      <td>MOBILE</td>\n",
       "    </tr>\n",
       "  </tbody>\n",
       "</table>\n",
       "</div>"
      ],
      "text/plain": [
       "  Vorgangsnummer           Kategorie  \\\n",
       "0         3m6hno    Verkehrsverstöße   \n",
       "1         fsaeor    Verkehrsverstöße   \n",
       "2         blm3gf    Verkehrsverstöße   \n",
       "3         2cfufu  Straßenbeleuchtung   \n",
       "4         riwctt    Verkehrsverstöße   \n",
       "\n",
       "                                               Ort        Zustand  \\\n",
       "0         Basler-Tor-Straße 29-30, 76227 Karlsruhe        Behoben   \n",
       "1                Gärtnerstraße 17, 76227 Karlsruhe        Behoben   \n",
       "2          Georg-Büchner-Straße 4, 76149 Karlsruhe        Behoben   \n",
       "3                      Stadtwerke, 76185 Karlsruhe  Abgeschlossen   \n",
       "4  Henriette-Obermüller-Straße 10, 76137 Karlsruhe        Behoben   \n",
       "\n",
       "     Erstellungsdatum Letztes Bearbeitungsdatum Eingangskanal  \n",
       "0 2012-02-24 22:16:00       2015-03-20 09:59:00        MOBILE  \n",
       "1 2012-03-04 17:42:00       2015-03-20 10:00:00        MOBILE  \n",
       "2 2012-03-07 20:31:00       2015-03-20 10:00:00        MOBILE  \n",
       "3 2012-03-09 10:20:00       2017-01-11 13:28:00        MOBILE  \n",
       "4 2012-03-11 17:22:00       2012-03-11 17:22:00        MOBILE  "
      ]
     },
     "execution_count": 6,
     "metadata": {},
     "output_type": "execute_result"
    }
   ],
   "source": [
    "df.head(5)"
   ]
  },
  {
   "cell_type": "markdown",
   "metadata": {},
   "source": [
    "and count NA's and unique values:"
   ]
  },
  {
   "cell_type": "code",
   "execution_count": 7,
   "metadata": {},
   "outputs": [
    {
     "name": "stdout",
     "output_type": "stream",
     "text": [
      "Shape:(58449, 7)\n",
      "                                    dtype   #NA  %NA  #unique\n",
      "Vorgangsnummer                     string     0    0    58445\n",
      "Kategorie                          string     0    0       24\n",
      "Ort                                string  4069    6    24307\n",
      "Zustand                            string     0    0        4\n",
      "Erstellungsdatum           datetime64[ns]     0    0    55397\n",
      "Letztes Bearbeitungsdatum  datetime64[ns]     0    0    49693\n",
      "Eingangskanal                      string     0    0        3\n"
     ]
    }
   ],
   "source": [
    "df_stats(df)"
   ]
  },
  {
   "cell_type": "markdown",
   "metadata": {},
   "source": [
    "**Action:** \n",
    "- Drop column `Vorgangsnummer`, which is a unique identifier without logical information."
   ]
  },
  {
   "cell_type": "code",
   "execution_count": 8,
   "metadata": {},
   "outputs": [
    {
     "name": "stdout",
     "output_type": "stream",
     "text": [
      "Removed 1 column:\n",
      "- Vorgangsnummer (string)\n"
     ]
    }
   ],
   "source": [
    "df = df.drop('Vorgangsnummer', axis=1)\n",
    "df_changes(df,'ka')"
   ]
  },
  {
   "cell_type": "markdown",
   "metadata": {},
   "source": [
    "**Action:** \n",
    "- Drop duplicate rows"
   ]
  },
  {
   "cell_type": "code",
   "execution_count": 9,
   "metadata": {},
   "outputs": [
    {
     "name": "stdout",
     "output_type": "stream",
     "text": [
      "Removed 569 rows\n"
     ]
    }
   ],
   "source": [
    "df = df.drop_duplicates()\n",
    "df_changes(df,'ka')"
   ]
  },
  {
   "cell_type": "markdown",
   "metadata": {},
   "source": [
    "**Action:** \n",
    "- Replace NA in `Ort` by '-'"
   ]
  },
  {
   "cell_type": "code",
   "execution_count": 10,
   "metadata": {},
   "outputs": [],
   "source": [
    "df = df.fillna(value={'Ort':'-'})\n",
    "df_changes(df,'ka')"
   ]
  },
  {
   "cell_type": "markdown",
   "metadata": {},
   "source": [
    "## Data Analysis"
   ]
  },
  {
   "cell_type": "markdown",
   "metadata": {},
   "source": [
    "Here we analyse the data\n",
    "- for gaining familiarity with the data, and \n",
    "- for finding aspects that need to be cleaned up"
   ]
  },
  {
   "cell_type": "markdown",
   "metadata": {},
   "source": [
    "Show a few rows:"
   ]
  },
  {
   "cell_type": "code",
   "execution_count": 11,
   "metadata": {},
   "outputs": [
    {
     "data": {
      "text/html": [
       "<div>\n",
       "<style scoped>\n",
       "    .dataframe tbody tr th:only-of-type {\n",
       "        vertical-align: middle;\n",
       "    }\n",
       "\n",
       "    .dataframe tbody tr th {\n",
       "        vertical-align: top;\n",
       "    }\n",
       "\n",
       "    .dataframe thead th {\n",
       "        text-align: right;\n",
       "    }\n",
       "</style>\n",
       "<table border=\"1\" class=\"dataframe\">\n",
       "  <thead>\n",
       "    <tr style=\"text-align: right;\">\n",
       "      <th></th>\n",
       "      <th>Kategorie</th>\n",
       "      <th>Ort</th>\n",
       "      <th>Zustand</th>\n",
       "      <th>Erstellungsdatum</th>\n",
       "      <th>Letztes Bearbeitungsdatum</th>\n",
       "      <th>Eingangskanal</th>\n",
       "    </tr>\n",
       "  </thead>\n",
       "  <tbody>\n",
       "    <tr>\n",
       "      <th>0</th>\n",
       "      <td>Verkehrsverstöße</td>\n",
       "      <td>Basler-Tor-Straße 29-30, 76227 Karlsruhe</td>\n",
       "      <td>Behoben</td>\n",
       "      <td>2012-02-24 22:16:00</td>\n",
       "      <td>2015-03-20 09:59:00</td>\n",
       "      <td>MOBILE</td>\n",
       "    </tr>\n",
       "    <tr>\n",
       "      <th>1</th>\n",
       "      <td>Verkehrsverstöße</td>\n",
       "      <td>Gärtnerstraße 17, 76227 Karlsruhe</td>\n",
       "      <td>Behoben</td>\n",
       "      <td>2012-03-04 17:42:00</td>\n",
       "      <td>2015-03-20 10:00:00</td>\n",
       "      <td>MOBILE</td>\n",
       "    </tr>\n",
       "    <tr>\n",
       "      <th>2</th>\n",
       "      <td>Verkehrsverstöße</td>\n",
       "      <td>Georg-Büchner-Straße 4, 76149 Karlsruhe</td>\n",
       "      <td>Behoben</td>\n",
       "      <td>2012-03-07 20:31:00</td>\n",
       "      <td>2015-03-20 10:00:00</td>\n",
       "      <td>MOBILE</td>\n",
       "    </tr>\n",
       "    <tr>\n",
       "      <th>3</th>\n",
       "      <td>Straßenbeleuchtung</td>\n",
       "      <td>Stadtwerke, 76185 Karlsruhe</td>\n",
       "      <td>Abgeschlossen</td>\n",
       "      <td>2012-03-09 10:20:00</td>\n",
       "      <td>2017-01-11 13:28:00</td>\n",
       "      <td>MOBILE</td>\n",
       "    </tr>\n",
       "    <tr>\n",
       "      <th>4</th>\n",
       "      <td>Verkehrsverstöße</td>\n",
       "      <td>Henriette-Obermüller-Straße 10, 76137 Karlsruhe</td>\n",
       "      <td>Behoben</td>\n",
       "      <td>2012-03-11 17:22:00</td>\n",
       "      <td>2012-03-11 17:22:00</td>\n",
       "      <td>MOBILE</td>\n",
       "    </tr>\n",
       "  </tbody>\n",
       "</table>\n",
       "</div>"
      ],
      "text/plain": [
       "            Kategorie                                              Ort  \\\n",
       "0    Verkehrsverstöße         Basler-Tor-Straße 29-30, 76227 Karlsruhe   \n",
       "1    Verkehrsverstöße                Gärtnerstraße 17, 76227 Karlsruhe   \n",
       "2    Verkehrsverstöße          Georg-Büchner-Straße 4, 76149 Karlsruhe   \n",
       "3  Straßenbeleuchtung                      Stadtwerke, 76185 Karlsruhe   \n",
       "4    Verkehrsverstöße  Henriette-Obermüller-Straße 10, 76137 Karlsruhe   \n",
       "\n",
       "         Zustand    Erstellungsdatum Letztes Bearbeitungsdatum Eingangskanal  \n",
       "0        Behoben 2012-02-24 22:16:00       2015-03-20 09:59:00        MOBILE  \n",
       "1        Behoben 2012-03-04 17:42:00       2015-03-20 10:00:00        MOBILE  \n",
       "2        Behoben 2012-03-07 20:31:00       2015-03-20 10:00:00        MOBILE  \n",
       "3  Abgeschlossen 2012-03-09 10:20:00       2017-01-11 13:28:00        MOBILE  \n",
       "4        Behoben 2012-03-11 17:22:00       2012-03-11 17:22:00        MOBILE  "
      ]
     },
     "execution_count": 11,
     "metadata": {},
     "output_type": "execute_result"
    }
   ],
   "source": [
    "df.head(5)"
   ]
  },
  {
   "cell_type": "markdown",
   "metadata": {},
   "source": [
    "Count NA's and unique values:"
   ]
  },
  {
   "cell_type": "code",
   "execution_count": 12,
   "metadata": {},
   "outputs": [
    {
     "name": "stdout",
     "output_type": "stream",
     "text": [
      "Shape:(57880, 6)\n",
      "                                    dtype  #NA  %NA  #unique\n",
      "Kategorie                          string    0    0       24\n",
      "Ort                                string    0    0    24307\n",
      "Zustand                            string    0    0        4\n",
      "Erstellungsdatum           datetime64[ns]    0    0    55397\n",
      "Letztes Bearbeitungsdatum  datetime64[ns]    0    0    49693\n",
      "Eingangskanal                      string    0    0        3\n"
     ]
    }
   ],
   "source": [
    "df_stats(df)"
   ]
  },
  {
   "cell_type": "markdown",
   "metadata": {},
   "source": [
    "We inspect each column in more detail below."
   ]
  },
  {
   "cell_type": "markdown",
   "metadata": {},
   "source": [
    "### Categorical columns"
   ]
  },
  {
   "cell_type": "markdown",
   "metadata": {},
   "source": [
    "#### `Kategorie`"
   ]
  },
  {
   "cell_type": "markdown",
   "metadata": {},
   "source": [
    "List the 24 unique values for `Kategorie`:"
   ]
  },
  {
   "cell_type": "code",
   "execution_count": 13,
   "metadata": {},
   "outputs": [
    {
     "data": {
      "text/plain": [
       "Verunreinigungen                                         14302\n",
       "115 Abfallsammlung                                        9113\n",
       "Verkehrsverstöße                                          7806\n",
       "Gefahrenstellen                                           5876\n",
       "Straßenbeleuchtung                                        4429\n",
       "115 Straßenreinigung                                      4175\n",
       "Beschilderung und Verkehrsführung                         3610\n",
       "OA 6 Aufenthalt Nicht-EU                                  1525\n",
       "Ampel                                                     1453\n",
       "Beschilderung                                             1427\n",
       "KA-Feedback Nutzerumfrage                                 1231\n",
       "Bauliche Mängel                                            829\n",
       "Ampeln für Fußgänger oder Radfahrer                        454\n",
       "115 Abfall Sperrmüll/Weiße Ware (2nd Level)                438\n",
       "Ampel für Kraftfahrzeuge                                   407\n",
       "OA 6 Terminwunsch ohne eMail-Adresse                       406\n",
       "OA 6 Notfalltermin (abgelaufener oder verlorener eAT)      137\n",
       "Pünktlichkeit des ÖPNV                                     126\n",
       "OA 6 EU-Bürger und EU-Familienangehörige                    68\n",
       "OA 6 Visumantrag Botschaft                                  21\n",
       "Beschwerde Test                                             19\n",
       "Beschilderung                                               16\n",
       "Test                                                         8\n",
       "Zentrale Erreichbarkeit der Stadt im Notfall                 4\n",
       "Name: Kategorie, dtype: Int64"
      ]
     },
     "execution_count": 13,
     "metadata": {},
     "output_type": "execute_result"
    }
   ],
   "source": [
    "df['Kategorie'].value_counts()"
   ]
  },
  {
   "cell_type": "markdown",
   "metadata": {},
   "source": [
    "Visualise frequencies as a pie chart:"
   ]
  },
  {
   "cell_type": "code",
   "execution_count": 14,
   "metadata": {},
   "outputs": [
    {
     "data": {
      "image/png": "[encoded data removed]",
      "text/plain": [
       "<matplotlib.figure.Figure at 0x1a24503eb8>"
      ]
     },
     "metadata": {},
     "output_type": "display_data"
    }
   ],
   "source": [
    "threshold = 2000\n",
    "freq = df['Kategorie'].value_counts()\n",
    "mask = freq < threshold\n",
    "freq = freq[~mask].append(pd.Series([freq[mask].sum()],index=['Andere']))\n",
    "\n",
    "title = 'Kreisdiagramm der Feedback-Kategorien'\n",
    "fig, axes = plt.subplots(figsize=(5,5));\n",
    "freq.plot(kind='pie', autopct='%1.f%%', startangle=90, explode=[0.02]*len(freq), ax=axes);\n",
    "fig.suptitle(title);\n",
    "axes.set_ylabel('');"
   ]
  },
  {
   "cell_type": "markdown",
   "metadata": {},
   "source": [
    "Two categories contain the word 'Test':"
   ]
  },
  {
   "cell_type": "code",
   "execution_count": 15,
   "metadata": {},
   "outputs": [
    {
     "data": {
      "text/plain": [
       "['Beschwerde Test', 'Test']"
      ]
     },
     "execution_count": 15,
     "metadata": {},
     "output_type": "execute_result"
    }
   ],
   "source": [
    "test_categories = [cat for cat in df['Kategorie'].unique() if 'Test' in cat]\n",
    "test_categories"
   ]
  },
  {
   "cell_type": "markdown",
   "metadata": {},
   "source": [
    "How many rows would be removed upon cleaning?"
   ]
  },
  {
   "cell_type": "code",
   "execution_count": 16,
   "metadata": {},
   "outputs": [
    {
     "data": {
      "text/plain": [
       "27"
      ]
     },
     "execution_count": 16,
     "metadata": {},
     "output_type": "execute_result"
    }
   ],
   "source": [
    "len(df[df['Kategorie'].isin(test_categories)])"
   ]
  },
  {
   "cell_type": "markdown",
   "metadata": {},
   "source": [
    "This is a small number so these rows can safely be removed."
   ]
  },
  {
   "cell_type": "markdown",
   "metadata": {},
   "source": [
    "**Action:** \n",
    "- Drop the values 'Test' and 'Beschwerde Test' in column `Kategorie`"
   ]
  },
  {
   "cell_type": "code",
   "execution_count": 17,
   "metadata": {},
   "outputs": [
    {
     "name": "stdout",
     "output_type": "stream",
     "text": [
      "Removed 27 rows\n"
     ]
    }
   ],
   "source": [
    "df = df[~df['Kategorie'].isin(test_categories)]\n",
    "df_changes(df,'ka')"
   ]
  },
  {
   "cell_type": "markdown",
   "metadata": {},
   "source": [
    "#### `Ort`"
   ]
  },
  {
   "cell_type": "markdown",
   "metadata": {},
   "source": [
    "Plot histogram of string length for the locations in `Ort`:"
   ]
  },
  {
   "cell_type": "code",
   "execution_count": 18,
   "metadata": {},
   "outputs": [
    {
     "data": {
      "image/png": "[encoded data removed]",
      "text/plain": [
       "<matplotlib.figure.Figure at 0x1a2512add8>"
      ]
     },
     "metadata": {
      "needs_background": "light"
     },
     "output_type": "display_data"
    }
   ],
   "source": [
    "df['Ort'].apply(len).hist(bins=50, ec='white');\n",
    "plt.suptitle('Histogramm der Stringlänge in Ort');"
   ]
  },
  {
   "cell_type": "markdown",
   "metadata": {},
   "source": [
    "The spike on the left shows that there are thousands of unknown addresses.\n",
    "We will deal with that later."
   ]
  },
  {
   "cell_type": "markdown",
   "metadata": {},
   "source": [
    "#### `Eingangskanal`"
   ]
  },
  {
   "cell_type": "markdown",
   "metadata": {},
   "source": [
    "List the 3 unique values for `Eingangskanal`:"
   ]
  },
  {
   "cell_type": "code",
   "execution_count": 19,
   "metadata": {},
   "outputs": [
    {
     "data": {
      "text/plain": [
       "CALL_115    26957\n",
       "MOBILE      24336\n",
       "WEB          6560\n",
       "Name: Eingangskanal, dtype: Int64"
      ]
     },
     "execution_count": 19,
     "metadata": {},
     "output_type": "execute_result"
    }
   ],
   "source": [
    "df['Eingangskanal'].value_counts()"
   ]
  },
  {
   "cell_type": "markdown",
   "metadata": {},
   "source": [
    "Website usage lags behind phone and mobile. \n",
    "This makes sense, given the categories of feedback listed above, which mostly pertain situations in the public space outside on the street.\n",
    "Other than that, this column looks clean. "
   ]
  },
  {
   "cell_type": "markdown",
   "metadata": {},
   "source": [
    "#### `Zustand`"
   ]
  },
  {
   "cell_type": "markdown",
   "metadata": {},
   "source": [
    "List the 4 unique values for `Zustand`:"
   ]
  },
  {
   "cell_type": "code",
   "execution_count": 20,
   "metadata": {},
   "outputs": [
    {
     "data": {
      "text/plain": [
       "Abgeschlossen    35972\n",
       "Eingetroffen     10210\n",
       "Behoben           9554\n",
       "In Arbeit         2117\n",
       "Name: Zustand, dtype: Int64"
      ]
     },
     "execution_count": 20,
     "metadata": {},
     "output_type": "execute_result"
    }
   ],
   "source": [
    "df['Zustand'].value_counts()"
   ]
  },
  {
   "cell_type": "markdown",
   "metadata": {},
   "source": [
    "Visualise in a pie chart:"
   ]
  },
  {
   "cell_type": "code",
   "execution_count": 21,
   "metadata": {},
   "outputs": [
    {
     "data": {
      "image/png": "[encoded data removed]",
      "text/plain": [
       "<matplotlib.figure.Figure at 0x1a24d532b0>"
      ]
     },
     "metadata": {},
     "output_type": "display_data"
    }
   ],
   "source": [
    "freq = df['Zustand'].value_counts()\n",
    "title = 'Kreisdiagramm der Feedback Zustände'\n",
    "fig, axes = plt.subplots(figsize=(5,5));\n",
    "fig.suptitle(title);\n",
    "freq.plot(kind='pie', autopct='%1.f%%', startangle=90, explode=[0.02]*len(freq), ax=axes);\n",
    "axes.set_ylabel('');"
   ]
  },
  {
   "cell_type": "markdown",
   "metadata": {},
   "source": [
    "These values should be interpreted as follows:  \n",
    "- 'Eingetroffen': Feedback received.  \n",
    "- 'In Arbeit': Feedback is being acted upon.  \n",
    "- 'Behoben': Feedback was acted upon succesfully.  \n",
    "- 'Abgeschlossen': Feedback closed without intervention.  \n",
    "\n",
    "Typical Feedback-status lifecycles are:  \n",
    "- 'Eingetroffen' -> 'In Arbeit' -> 'Behoben'  \n",
    "- 'Eingetroffen' -> 'Abgeschlossen'\n",
    "\n",
    "This column will be the basis for a label."
   ]
  },
  {
   "cell_type": "markdown",
   "metadata": {},
   "source": [
    "### Date columns"
   ]
  },
  {
   "cell_type": "markdown",
   "metadata": {},
   "source": [
    "Plot individual distributions of year, month, day and hour:"
   ]
  },
  {
   "cell_type": "code",
   "execution_count": 22,
   "metadata": {},
   "outputs": [
    {
     "data": {
      "image/png": "[encoded data removed]",
      "text/plain": [
       "<matplotlib.figure.Figure at 0x1a24ea9278>"
      ]
     },
     "metadata": {
      "needs_background": "light"
     },
     "output_type": "display_data"
    }
   ],
   "source": [
    "cols = ['Erstellungsdatum', \n",
    "        'Letztes Bearbeitungsdatum']\n",
    "\n",
    "units = ['year', \n",
    "         'month', \n",
    "         'day', \n",
    "         'hour']\n",
    "\n",
    "title = 'Histogramme von Jahr, Monat, Tag und Stunde für die beiden Datentypspalten'\n",
    "fig, axes = plt.subplots(len(units), len(cols), figsize=(10,10))\n",
    "for j,col in enumerate(cols):\n",
    "    axes[0, j].set_title(col)\n",
    "    for i,unit in enumerate(units):\n",
    "        axes[i, 0].set_ylabel(unit)\n",
    "        values = getattr(df[col].dt, unit)\n",
    "        bins = list(map(lambda x: x-0.5, range(min(values),max(values)+2)))\n",
    "        values.hist(bins=bins, ax=axes[i, j], ec='white');\n",
    "fig.tight_layout();\n",
    "fig.suptitle(title, y=1.03);"
   ]
  },
  {
   "cell_type": "markdown",
   "metadata": {},
   "source": [
    "Highlight usage of the service per year:"
   ]
  },
  {
   "cell_type": "code",
   "execution_count": 23,
   "metadata": {},
   "outputs": [
    {
     "data": {
      "image/png": "[encoded data removed]",
      "text/plain": [
       "<matplotlib.figure.Figure at 0x1a2433fba8>"
      ]
     },
     "metadata": {
      "needs_background": "light"
     },
     "output_type": "display_data"
    }
   ],
   "source": [
    "title = 'Histogramm für die Anzahl Feedback pro Jahr'\n",
    "fig, axes = plt.subplots(figsize=(8,4))\n",
    "fig.suptitle(title)\n",
    "yearly = df['Erstellungsdatum'].dt.year;\n",
    "bins = list(map(lambda x: x-0.5, range(min(yearly),max(yearly)+2)))\n",
    "yearly.hist(bins=bins, ec='white', ax=axes);"
   ]
  },
  {
   "cell_type": "markdown",
   "metadata": {},
   "source": [
    "Observations:  \n",
    "1. The year histograms show a clear increase in feedback over the years  \n",
    "2. The month and day histograms are rather flat: no outliers  \n",
    "3. Hour of the day distribution shows most activity in the morning and gradually less during the day. "
   ]
  },
  {
   "cell_type": "markdown",
   "metadata": {},
   "source": [
    "Investigate possible correlations between different time units:\n",
    "- Although month and day (of month) are flatly distributed, are there specific busy days in the year?"
   ]
  },
  {
   "cell_type": "code",
   "execution_count": 24,
   "metadata": {},
   "outputs": [
    {
     "data": {
      "image/png": "[encoded data removed]",
      "text/plain": [
       "<matplotlib.figure.Figure at 0x1a24fd8a20>"
      ]
     },
     "metadata": {
      "needs_background": "light"
     },
     "output_type": "display_data"
    }
   ],
   "source": [
    "# Which day of the year is most feedback given?\n",
    "col = 'Erstellungsdatum'\n",
    "units = ['month', 'day']\n",
    "\n",
    "copy = pd.DataFrame()\n",
    "copy[units[0]] = getattr(df[col].dt, units[0])\n",
    "copy[units[1]] = getattr(df[col].dt, units[1])\n",
    "copy = copy.groupby(list(copy.columns)).size().reset_index(name='count')\n",
    "\n",
    "title = 'Diagramm für die Anzahl der Feedback pro Tag des Jahres in absteigender Reihenfolge'\n",
    "fig, axes = plt.subplots(figsize=(8,4))\n",
    "fig.suptitle(title);\n",
    "sorted_counts = copy.sort_values('count', ascending=False).reset_index(drop=True)['count']\n",
    "sorted_counts.plot(ax=axes);"
   ]
  },
  {
   "cell_type": "markdown",
   "metadata": {},
   "source": [
    "There are no strong outliers, as seen from this 'S'-shaped graph. \n",
    "- Busy days are quite spread out: there are about 50 days in the year with between 200 and 260 feedbacks per day.\n",
    "- Quiet days are little more sparse: there are about 10 days with 50 feedbacks or less.\n",
    "\n",
    "We can check the spread over the year with a heatmap:"
   ]
  },
  {
   "cell_type": "code",
   "execution_count": 25,
   "metadata": {},
   "outputs": [
    {
     "data": {
      "image/png": "[encoded data removed]",
      "text/plain": [
       "<matplotlib.figure.Figure at 0x1a250cacc0>"
      ]
     },
     "metadata": {
      "needs_background": "light"
     },
     "output_type": "display_data"
    }
   ],
   "source": [
    "copy_pivot = copy.pivot(index=units[0], columns=units[1], values='count')\n",
    "\n",
    "title = 'Heatmap für die Anzahl Feedback pro Tag des Jahres'\n",
    "fig, axes = plt.subplots(figsize=(15,5))\n",
    "fig.suptitle(title)\n",
    "sns.heatmap(copy_pivot, linewidth=0.5, ax=axes, cmap='coolwarm');"
   ]
  },
  {
   "cell_type": "markdown",
   "metadata": {},
   "source": [
    "The heatmap confirms a roughly uniform spread over the year. \n",
    "The extrema (red/blue) do not typically seem to correlate with special days. \n",
    "At most, the Christmas period (24-26 Dec) is relatively quiet."
   ]
  },
  {
   "cell_type": "markdown",
   "metadata": {},
   "source": [
    "Investigate further possible correlations between different time units:\n",
    "- Are there particularly busy times in the week?"
   ]
  },
  {
   "cell_type": "code",
   "execution_count": 26,
   "metadata": {},
   "outputs": [
    {
     "data": {
      "image/png": "[encoded data removed]",
      "text/plain": [
       "<matplotlib.figure.Figure at 0x1a250c27f0>"
      ]
     },
     "metadata": {
      "needs_background": "light"
     },
     "output_type": "display_data"
    }
   ],
   "source": [
    "col = 'Erstellungsdatum'\n",
    "units = ['weekday', 'hour']\n",
    "\n",
    "copy = pd.DataFrame()\n",
    "copy[units[0]] = getattr(df[col].dt, units[0])\n",
    "copy[units[1]] = getattr(df[col].dt, units[1])\n",
    "copy = copy.groupby(list(copy.columns)).size().reset_index(name='count')\n",
    "copy = copy.pivot(index=units[0], columns=units[1], values='count')\n",
    "\n",
    "title = 'Heatmap für die Anzahl Feedback pro Stunde der Woche'\n",
    "fig, axes = plt.subplots(figsize=(15,5))\n",
    "fig.suptitle(title)\n",
    "sns.heatmap(copy, linewidth=0.5, ax=axes, cmap='coolwarm');"
   ]
  },
  {
   "cell_type": "markdown",
   "metadata": {},
   "source": [
    "Yes, it is particularly busy on Monday morning. The weekend is very calm, instead.\n",
    "\n",
    "**Advice:** allocate most resources on feedback monitoring in the mornings (before lunch time) during regular working days (Mon-Fri)."
   ]
  },
  {
   "cell_type": "markdown",
   "metadata": {},
   "source": [
    "## Data Export"
   ]
  },
  {
   "cell_type": "markdown",
   "metadata": {},
   "source": [
    "Export the cleaned dataframe to a csv-file:"
   ]
  },
  {
   "cell_type": "code",
   "execution_count": 27,
   "metadata": {},
   "outputs": [],
   "source": [
    "df.to_csv('data/preprocessed_data.csv', index=False)"
   ]
  },
  {
   "cell_type": "markdown",
   "metadata": {},
   "source": [
    "Import with:  \n",
    "df = pd.read_csv('data/preprocessed_data.csv', parse_dates=['Erstellungsdatum','Letztes Bearbeitungsdatum']).convert_dtypes()"
   ]
  },
  {
   "cell_type": "code",
   "execution_count": 28,
   "metadata": {},
   "outputs": [],
   "source": [
    "# Check that re-import produces the same dataframe\n",
    "imported_df = pd.read_csv('data/preprocessed_data.csv', \n",
    "                          parse_dates=['Erstellungsdatum','Letztes Bearbeitungsdatum']\n",
    "                         ).convert_dtypes()\n",
    "assert imported_df.shape == df.shape\n",
    "assert imported_df.dtypes.to_list() == df.dtypes.to_list()\n",
    "assert all([df[col].to_list() == imported_df[col].to_list() for col in df.columns])"
   ]
  }
 ],
 "metadata": {
  "kernelspec": {
   "display_name": "Python 3",
   "language": "python",
   "name": "python3"
  },
  "language_info": {
   "codemirror_mode": {
    "name": "ipython",
    "version": 3
   },
   "file_extension": ".py",
   "mimetype": "text/x-python",
   "name": "python",
   "nbconvert_exporter": "python",
   "pygments_lexer": "ipython3",
   "version": "3.6.10"
  },
  "toc": {
   "base_numbering": 1,
   "nav_menu": {},
   "number_sections": true,
   "sideBar": true,
   "skip_h1_title": false,
   "title_cell": "Table of Contents",
   "title_sidebar": "Contents",
   "toc_cell": false,
   "toc_position": {},
   "toc_section_display": true,
   "toc_window_display": true
  },
  "varInspector": {
   "cols": {
    "lenName": 16,
    "lenType": 16,
    "lenVar": 40
   },
   "kernels_config": {
    "python": {
     "delete_cmd_postfix": "",
     "delete_cmd_prefix": "del ",
     "library": "var_list.py",
     "varRefreshCmd": "print(var_dic_list())"
    },
    "r": {
     "delete_cmd_postfix": ") ",
     "delete_cmd_prefix": "rm(",
     "library": "var_list.r",
     "varRefreshCmd": "cat(var_dic_list()) "
    }
   },
   "types_to_exclude": [
    "module",
    "function",
    "builtin_function_or_method",
    "instance",
    "_Feature"
   ],
   "window_display": false
  }
 },
 "nbformat": 4,
 "nbformat_minor": 4
}
